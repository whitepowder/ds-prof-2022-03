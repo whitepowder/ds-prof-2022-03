{
 "cells": [
  {
   "cell_type": "markdown",
   "metadata": {},
   "source": [
    "# <center> Homework 1 </center>"
   ]
  },
  {
   "cell_type": "markdown",
   "metadata": {},
   "source": [
    "# 0. Где мы сейчас?\n",
    "<img src=\"https://upload.wikimedia.org/wikipedia/commons/thumb/3/38/Jupyter_logo.svg/1200px-Jupyter_logo.svg.png\" width=\"150\">\n",
    "\n",
    "[Jupyter Notebook](https://jupyter.org/) - интерактивная среда для запуска программного кода в браузере. Удобный инструмент для анализа данных, который используется многими специалистами по data science. Позволяет выполнять отдельные ячейки с кодом, а не всю программу сразу, что очень удобно при знакомстве с данными."
   ]
  },
  {
   "cell_type": "markdown",
   "metadata": {},
   "source": [
    "# 1. Python\n",
    "> Python - это свободный интерпретируемый объектно-ориентированный расширяемый встраиваемый язык программирования очень высокого уровня \n",
    "\n",
    ">*(Г.Россум, Ф.Л.Дж.Дрейк, Д.С.Откидач \"Язык программирования Python\").*\n",
    "\n",
    "А если без цитат, то питон - это просто очень крутой язык, созданный в 1991 году [Великодушным пожизненным диктатором](https://ru.wikipedia.org/wiki/%D0%92%D0%B5%D0%BB%D0%B8%D0%BA%D0%BE%D0%B4%D1%83%D1%88%D0%BD%D1%8B%D0%B9_%D0%BF%D0%BE%D0%B6%D0%B8%D0%B7%D0%BD%D0%B5%D0%BD%D0%BD%D1%8B%D0%B9_%D0%B4%D0%B8%D0%BA%D1%82%D0%B0%D1%82%D0%BE%D1%80) Гвидо ван Россумом и названный в честь любимого им шоу [Monty Python's Flying Circus](https://en.wikipedia.org/wiki/Monty_Python%27s_Flying_Circus)\n",
    "\n",
    "<img src=\"https://advancelocal-adapter-image-uploads.s3.amazonaws.com/image.oregonlive.com/home/olive-media/width2048/img/tv/photo/2018/10/10/montycastjpg-7ef393e2355a42aa.jpg\" width=\"300\">"
   ]
  },
  {
   "cell_type": "markdown",
   "metadata": {},
   "source": [
    "# 2. Anaconda\n",
    "\n",
    "<img src=\"https://cdn-images-1.medium.com/max/1600/0*MVkCW8_Bmj-nuAnI.png\" width=\"300\">\n",
    "\n",
    "[Сборка Anaconda](https://www.anaconda.com/products/individual) включает очень много полезных библиотек для анализа данных. \n",
    "\n",
    "Среди наиболее популярных библиотек:\n",
    " - <a href=\"http://numpy.org\">Numpy</a> - это один из основных пакетов для математических вычислений. Он содержит средства для работы с многомерными массивами и высокоуровневыми математическими функциями\n",
    " - <a href=\"https://www.scipy.org/\">SciPy</a> - научные вычисления. Методы оптимизации, интегрирования, модули обработки сигналов и изображений, статистика, линейная алгебра, сплайны, кластеризация и многое другое\n",
    " -  <a href=\"http://pandas.pydata.org/\">Pandas</a> - основная библиотека для обработки и анализа данных. Предназначена для данных разной природы - матричных, панельных данных, временных рядов. Претендует на звание самого мощного и гибкого средства для анализа данных с открытым исходным кодом\n",
    " - <a href=\"http://scikit-learn.org/stable/\">Scikit-learn</a> - реализация очень многих методов машинного обучения с отличной документацией. \n",
    " - <a href=\"http://http://matplotlib.org/\">matplotlib</a> - хорошая библиотека для визуализации данных"
   ]
  },
  {
   "cell_type": "markdown",
   "metadata": {},
   "source": [
    "# 3. Задачки"
   ]
  },
  {
   "cell_type": "markdown",
   "metadata": {},
   "source": [
    "## Задача 1\n",
    "$N$ хоббитов делят $K$ кусков эльфийского хлеба поровну, не делящийся нацело остаток остается в корзинке у Сэма. Напишите функцию, которая принимает на вход параметры $N$ и $K$ и возвращает два числа: $x$ - cколько кусков эльфиского хлеба достанется каждому хоббиту, и $y$ - сколько кусков остаётся в корзинке."
   ]
  },
  {
   "cell_type": "code",
   "execution_count": 1,
   "metadata": {},
   "outputs": [],
   "source": [
    "def share_bread(N, K):\n",
    "    x = K // N\n",
    "    y = K % N\n",
    "    return x, y\n",
    "\n",
    "# если в функции всё верно, то после выполнения этой строчки, не должно выскакивать ошибок\n",
    "assert share_bread(N=3, K=14) == (4, 2)"
   ]
  },
  {
   "cell_type": "markdown",
   "metadata": {},
   "source": [
    "## Задача 2\n",
    "\n",
    "В копях Мории хоббиты нашли стену, на которой высечены разные натуральные числа. Согласно древним сказаниям, это даты сражений. Хоббиты знают, что сражения происходили только по високосным годам. Помогите хоббитам определить, является ли год с данным числом датой великого сражения. Если это так, то верните строку \"YOU SHALL PASS\", иначе верните \"YOU SHALL NOT PASS\". Напомним, что в соответствии с хоббитским календарем, год является високосным, если его номер кратен 4, но не кратен 100, а также если он кратен 400."
   ]
  },
  {
   "cell_type": "code",
   "execution_count": 2,
   "metadata": {},
   "outputs": [],
   "source": [
    "def leap_year(year):\n",
    "    if year % 4 == 0 and year % 100 != 0:\n",
    "        text_result = 'YOU SHALL PASS'\n",
    "    elif year % 400 == 0:\n",
    "        text_result = 'YOU SHALL PASS'\n",
    "    else:\n",
    "        text_result = 'YOU SHALL NOT PASS'\n",
    "             \n",
    "    return text_result\n",
    "\n",
    "assert leap_year(5) == 'YOU SHALL NOT PASS'"
   ]
  },
  {
   "cell_type": "markdown",
   "metadata": {},
   "source": [
    "## Задача 3\n",
    "<img src=\"http://i0.kym-cdn.com/photos/images/original/001/187/255/5e9.gif\" width=300>\n",
    "Для могущественного магического ритуала Гендальфу необходимо быстро подсчитывать площадь своего амулета, который умеет менять размеры. Известно, что амулет имеет форму треугольника и Гендальф знает длину каждой из сторон. Напишите функцию, которая считает площадь амулета по трем сторонам.  \n",
    "\n",
    "Подсказка: используйте формулу Герона\n",
    "$$ S = \\sqrt{p(p-a)(p-b)(p-c)} $$\n",
    "$$ p = \\frac{a + b + c}{2}$$\n"
   ]
  },
  {
   "cell_type": "code",
   "execution_count": 3,
   "metadata": {},
   "outputs": [],
   "source": [
    "import math\n",
    "\n",
    "def amulet_area(a, b, c):\n",
    "    p = (a + b + c) / 2\n",
    "    S = math.sqrt(p * (p - a) * (p - b) * (p - c))\n",
    "    return S\n",
    "\n",
    "assert amulet_area(3, 4, 5) == 6"
   ]
  },
  {
   "cell_type": "markdown",
   "metadata": {},
   "source": [
    "## Задача 4\n",
    "\n",
    "Хоббиты собираются пешком идти до Мордора и им нужно подсчитать расстояние, которое им предстоит пройти. Хоббиты смогли вспомнить сразу несколько метрик расстояния: евклидово, манхэттена и косинусное, так что ваша задача - напистаь функцию под каждую из них. Важное условие - используйте только базовые функции numpy для решения.\n",
    "\n",
    "\n",
    "* Евклидово расстояние\n",
    "$$ d(a, b) = \\sqrt{\\sum_i (a_i - b_i)^2} $$\n",
    "* Расстояние Манхэттена\n",
    "$$ d(a, b) = \\sum_i |a_i - b_i| $$\n",
    "* Косинусное расстояние\n",
    "$$ d(a, b) = 1 - \\frac{a^\\top b}{||a||_2\\cdot||b||_2}$$"
   ]
  },
  {
   "cell_type": "code",
   "execution_count": 4,
   "metadata": {},
   "outputs": [],
   "source": [
    "import math\n",
    "from scipy import spatial\n",
    "\n",
    "def cal_euclidean(a, b):    \n",
    "    distance = math.sqrt(sum(pow((a - b),2) for a, b in zip(a, b)))\n",
    "    return distance\n",
    "\n",
    "def cal_manhattan(a, b):    \n",
    "    distance = math.sqrt(sum(abs((a - b)) for a, b in zip(a, b)))\n",
    "    return distance\n",
    "\n",
    "def cal_cosine(a, b):    \n",
    "    distance = 1 - spatial.distance.cosine(a,b)\n",
    "    return distance"
   ]
  },
  {
   "cell_type": "code",
   "execution_count": 5,
   "metadata": {},
   "outputs": [
    {
     "name": "stdout",
     "output_type": "stream",
     "text": [
      "31.12876483254676\n",
      "9.1104335791443\n",
      "-0.7782927287480772\n"
     ]
    }
   ],
   "source": [
    "import numpy as np\n",
    "\n",
    "a = np.random.randint(-10, 10, size=10)\n",
    "b = np.random.randint(-10, 10, size=10)\n",
    "print(cal_euclidean(a, b))\n",
    "print(cal_manhattan(a, b))\n",
    "print(cal_cosine(a, b))"
   ]
  },
  {
   "cell_type": "markdown",
   "metadata": {},
   "source": [
    "## Задача 5\n",
    "\n",
    "Ну и напоследок, еще немного практики numpy, без которой не обходится ни один хоббит.\n"
   ]
  },
  {
   "cell_type": "markdown",
   "metadata": {},
   "source": [
    "Создайте случайный array (`np.random.rand()`) длинной 100. Преобразуйте его так, чтобы\n",
    "* Максимальный элемент(ы) был равен 1\n",
    "* Минимальный элемент(ы) был равен 0\n",
    "* Остальные элементы в итнтервале от 0 до 1 остаются прежними"
   ]
  },
  {
   "cell_type": "code",
   "execution_count": 12,
   "metadata": {},
   "outputs": [
    {
     "name": "stdout",
     "output_type": "stream",
     "text": [
      "\u001b[1mIn the random array\u001b[0m: \n",
      "[0.00758876 0.03163443 0.0332488  0.20379865 0.         0.39781472\n",
      " 0.92207373 0.98046527 0.68948313 0.59172142 0.36330118 0.11455588\n",
      " 0.46916445 0.05944197 0.18773991 0.31742123 0.67423028 0.6435353\n",
      " 0.38867696 0.23244452 0.68063091 0.38415676 0.9117463  0.89514595\n",
      " 0.39561875 0.38556344 0.31331305 0.29827921 0.51926353 0.26462742\n",
      " 0.0912974  0.43927882 0.14245314 0.8788574  0.90248699 0.4507918\n",
      " 1.         0.03431094 0.60027001 0.9688838  0.25816609 0.12835035\n",
      " 0.62835169 0.12181683 0.53028222 0.27206416 0.81323961 0.91482823\n",
      " 0.27670665 0.69828898 0.62809554 0.79826017 0.0918756  0.93283171\n",
      " 0.78683018 0.76236251 0.01626456 0.39031035 0.05419458 0.31820778\n",
      " 0.47115253 0.79767765 0.82695556 0.42842584 0.51250456 0.73032641\n",
      " 0.04091857 0.75274794 0.73231767 0.18900097 0.49730987 0.95641134\n",
      " 0.61445885 0.69261086 0.20777568 0.07413868 0.0412853  0.03511947\n",
      " 0.34907204 0.10424977 0.96305126 0.63572888 0.68056767 0.67852496\n",
      " 0.26518258 0.78526151 0.20430111 0.49545104 0.77821904 0.56221422\n",
      " 0.44932167 0.39653367 0.5854472  0.58741528 0.00874627 0.89161884\n",
      " 0.77438935 0.57447613 0.54955827 0.68066255]\n",
      "\u001b[1mof len 100\n",
      "the maximum number is 1 and the minimum number is 0.\n"
     ]
    }
   ],
   "source": [
    "import numpy as np\n",
    "   \n",
    "    \n",
    "#my_array = [0, 1]\n",
    "\n",
    "#1 option\n",
    "#for x in range(100 - len(my_array)):\n",
    "#    x = np.random.uniform(0, 1)\n",
    "#    my_array.append(x)\n",
    "\n",
    "#2 option\n",
    "#x = [np.random.uniform(0, 1) for _ in range(100 - len(my_array))]\n",
    "#my_array.extend(x)\n",
    "\n",
    "#3 option \n",
    "my_array = np.random.rand(100)\n",
    "index_min = np.argmin(my_array)\n",
    "index_max = np.argmax(my_array)\n",
    "my_array[index_min] = 0\n",
    "my_array[index_max] = 1\n",
    "\n",
    "\n",
    "\n",
    "print(f\"\\033[1mIn the random array\\033[0m: \\n{my_array}\\n\\033[1mof len {len(my_array)}\\nthe maximum number is {int(np.max(my_array))} and the minimum number is {int(np.min(my_array))}.\")\n",
    "\n"
   ]
  },
  {
   "cell_type": "markdown",
   "metadata": {},
   "source": [
    "Создайте array размером $5 \\times 6$ с целыми числами в интервале [0,50]. Напечатайте колонку, которая содержит максимальный элемент полученной матрицы "
   ]
  },
  {
   "cell_type": "code",
   "execution_count": 302,
   "metadata": {
    "scrolled": true
   },
   "outputs": [
    {
     "name": "stdout",
     "output_type": "stream",
     "text": [
      "Shape:  (5, 6)\n",
      "\u001b[1m[[29 11 29 28 38 11]\n",
      " [ 7  0 44 27 17 22]\n",
      " [31 39 44 23  4 37]\n",
      " [11  8  0 49 33  1]\n",
      " [10 10 36 16 13 49]]\u001b[0m\n",
      "Selected column is column \u001b[1m4\u001b[0m: \u001b[1m[28 27 23 49 16]\u001b[0m\n",
      "Selected column is column \u001b[1m6\u001b[0m: \u001b[1m[11 22 37  1 49]\u001b[0m\n",
      "Total 2 column(s)\n",
      "None\n"
     ]
    }
   ],
   "source": [
    "import numpy as np\n",
    "\n",
    "\n",
    "#1 option\n",
    "#my_array = np.array([[np.random.randint(0, 50) for x in range(6)] for y in range(5)])\n",
    "#index = np.argmax(my_array)\n",
    "   \n",
    "#if index in range(0,6):\n",
    "#    limit = index\n",
    "#if index in range(6,12):\n",
    "#    limit = index-6\n",
    "#if index in range(12,18):\n",
    "#    limit = index-12\n",
    "#if index in range(18,24):\n",
    "#    limit = index-18\n",
    "#if index in range(24,30):\n",
    "#    limit = index-24\n",
    "#selected_column = my_array[:, limit]\n",
    "\n",
    "#print('Shape: ',my_array.shape)\n",
    "#print(f\"\\033[1m{my_array}\\033[0m\")\n",
    "#print(f\"Selected column is column \\033[1m{limit+1}\\033[0m: \\033[1m{selected_column}\\033[0m\")\n",
    "\n",
    "#2 option\n",
    "my_array = np.array([[np.random.randint(0, 50) for x in range(6)] for y in range(5)])\n",
    "\n",
    "\n",
    "def index_calc(my_array):\n",
    "    max_value = np.max(my_array)\n",
    "    index = np.argwhere(my_array == max_value).tolist()\n",
    "\n",
    "    return index\n",
    "\n",
    "def limit_calc(index):\n",
    "    limit = []\n",
    "    for i in range (len(index)):\n",
    "        if index[i][1] not in limit:\n",
    "            limit.append(index[i][1])\n",
    "    return limit\n",
    "\n",
    "def selected_column_calc(my_array):\n",
    "    result = ''\n",
    "    index = index_calc(my_array)\n",
    "    limit = limit_calc(index)    \n",
    "    for i in range (len(limit)):\n",
    "        selected_column = (my_array[:, limit[i]])\n",
    "        print(f\"Selected column is column \\033[1m{limit[i]+1}\\033[0m: \\033[1m{selected_column}\\033[0m\")\n",
    "    \n",
    "    print(f\"Total {len(limit)} column(s)\")\n",
    "   \n",
    "    \n",
    "print('Shape: ',my_array.shape)\n",
    "print(f\"\\033[1m{my_array}\\033[0m\")\n",
    "print(selected_column_calc(my_array))\n"
   ]
  },
  {
   "cell_type": "markdown",
   "metadata": {},
   "source": [
    "Напишите функцию, которая принимает на вохд матрицу (array) X и возвращает все её уникальные строки в виде новой матрицы."
   ]
  },
  {
   "cell_type": "code",
   "execution_count": 298,
   "metadata": {},
   "outputs": [],
   "source": [
    "def get_unique_rows(X):\n",
    "    X_unique = []\n",
    "    for i in range(0, len(X)):\n",
    "        line = list(X[i])\n",
    "        if line not in X_unique:\n",
    "            X_unique.append(line)\n",
    " \n",
    "    \n",
    "    X_unique = np.array(X_unique)\n",
    "\n",
    "    return X_unique"
   ]
  },
  {
   "cell_type": "code",
   "execution_count": 299,
   "metadata": {},
   "outputs": [
    {
     "name": "stdout",
     "output_type": "stream",
     "text": [
      "[[5 5 4]\n",
      " [5 5 4]\n",
      " [4 5 4]\n",
      " [5 5 4]\n",
      " [4 4 4]\n",
      " [5 5 4]\n",
      " [5 4 5]\n",
      " [5 4 5]\n",
      " [4 5 5]\n",
      " [4 5 5]]\n"
     ]
    }
   ],
   "source": [
    "X = np.random.randint(4, 6, size=(10,3))\n",
    "print(X)\n",
    "\n"
   ]
  },
  {
   "cell_type": "code",
   "execution_count": 300,
   "metadata": {},
   "outputs": [
    {
     "data": {
      "text/plain": [
       "array([[5, 5, 4],\n",
       "       [4, 5, 4],\n",
       "       [4, 4, 4],\n",
       "       [5, 4, 5],\n",
       "       [4, 5, 5]])"
      ]
     },
     "execution_count": 300,
     "metadata": {},
     "output_type": "execute_result"
    }
   ],
   "source": [
    "get_unique_rows(X)"
   ]
  }
 ],
 "metadata": {
  "kernelspec": {
   "display_name": "Python 3 (ipykernel)",
   "language": "python",
   "name": "python3"
  },
  "language_info": {
   "codemirror_mode": {
    "name": "ipython",
    "version": 3
   },
   "file_extension": ".py",
   "mimetype": "text/x-python",
   "name": "python",
   "nbconvert_exporter": "python",
   "pygments_lexer": "ipython3",
   "version": "3.9.7"
  },
  "varInspector": {
   "cols": {
    "lenName": 16,
    "lenType": 16,
    "lenVar": 40
   },
   "kernels_config": {
    "python": {
     "delete_cmd_postfix": "",
     "delete_cmd_prefix": "del ",
     "library": "var_list.py",
     "varRefreshCmd": "print(var_dic_list())"
    },
    "r": {
     "delete_cmd_postfix": ") ",
     "delete_cmd_prefix": "rm(",
     "library": "var_list.r",
     "varRefreshCmd": "cat(var_dic_list()) "
    }
   },
   "types_to_exclude": [
    "module",
    "function",
    "builtin_function_or_method",
    "instance",
    "_Feature"
   ],
   "window_display": false
  }
 },
 "nbformat": 4,
 "nbformat_minor": 2
}
